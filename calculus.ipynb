{
 "cells": [
  {
   "cell_type": "markdown",
   "metadata": {
    "collapsed": false
   },
   "source": [
    "# Classwork 6\n",
    "Quinn Gates\n",
    "### Derivative\n",
    "A function $derivative(a,b,n)$ takes three input parameters, the two endpoints of the domain $[a,b]$ on which the derivative acts and the number of points $n$ into which that domain is partitioned (yielding $n-1$ intervals), and returns a single two-dimensional numpy array $D$ of dimension $n\\times n$ that represents the finite difference operation. Done correctly, given a discrete function approximation represented by an $n$-dimensional array $f = [f_0, \\ldots, f_{n-1}]$ defined as $f_i = f(x_i)$ on the grid of points $x_i$ from $i=0$ to $i=n$ with fixed spacing $x_{i+1} - x_i = dx$, where $dx = (b-a)/(n-1)$, applying the central difference matrix should yield a new $n$-dimensional array $Df = [(Df)0, \\ldots, (DF){n-1}]$ with interior points: $$(Df)i = \\frac{f{i+1} - f_{i-1}}{2dx}.$$"
   ]
  },
  {
   "cell_type": "markdown",
   "metadata": {
    "collapsed": false
   },
   "source": [
    "We need to end up with a matrix that, when mulitplied by an array of $y$-values, produces the array: \n",
    "$$ D  f = \\left( \\begin{array}{ccc}\n",
    "(f_2-f_1)/\\delta x \\\\\n",
    "(f_3-f_1)/2\\delta x \\\\\n",
    "(f_4-f_2)/2\\delta x \\\\\n",
    "\\ldots \\\\\n",
    "(f_n-f_\\left(n-2\\right))/2\\delta x  \\\\\n",
    "(f_n-f_\\left(n-1\\right))/\\delta x\\end{array} \\right)$$"
   ]
  },
  {
   "cell_type": "markdown",
   "metadata": {
    "collapsed": false
   },
   "source": [
    "I will show how the D matirx is made using a $5\\times5$ matrix so we need:\n",
    "$$  \\left( \\begin{array}{ccc}\n",
    "a & b & c & d & e \\\\\n",
    "f & g & h & i & j \\\\\n",
    "k & l & m & n & o \\\\\n",
    "p & q & r & s & t \\\\\n",
    "u & v & w & x & y \\end{array} \\right) \\left(\\begin{array}{ccc}\n",
    "f_1 \\\\\n",
    "f_2 \\\\\n",
    "f_3 \\\\\n",
    "f_4 \\\\\n",
    "f_5 \\end{array} \\right) = \\left( \\begin{array}{ccc}\n",
    "(f_2-f_1)/\\delta x \\\\\n",
    "(f_3-f_1)/2\\delta x \\\\\n",
    "(f_4-f_2)/2\\delta x \\\\\n",
    "(f_5-f_3)/2\\delta x  \\\\\n",
    "(f_5-f_4)/\\delta x\\end{array} \\right) $$"
   ]
  },
  {
   "cell_type": "markdown",
   "metadata": {
    "collapsed": false
   },
   "source": [
    "We can use this now to reverse engineer the $D$-array.  Since the first line of the product contains only $f_2$ and $f_1$ we know that $c=d=e=0$.  This logic can be applied to each line so that $c=d=e=g=i=j=k=m=o=p=q=s=u=v=w=0$.  Therefore:\n",
    "$$ D = \\left( \\begin{array}{ccc}\n",
    "a & b & 0 & 0 & 0 \\\\\n",
    "f & 0 & h & 0 & 0 \\\\\n",
    "0 & l & 0 & n & 0 \\\\\n",
    "0 & 0 & r & 0 & t \\\\\n",
    "0 & 0 & 0 & x & y \\end{array} \\right) $$"
   ]
  },
  {
   "cell_type": "markdown",
   "metadata": {
    "collapsed": false
   },
   "source": [
    "Now it's just finding out what the remaining varialbles are.  If the whole matrix is getting divided by $2\\delta x$ then the top and bottom lines need to be double the pattern in the rest of the matrix.  Since the general function we are trying to achieve is: $f_n-f_\\left(n-2\\right)$ so we need to have a diagonal of $1's$ that is displaced by one spot higher than the identity matrix and a diagnal of $-1's$ that is displaced by one spot lower than the identity matrix.  This results in the matrix:\n",
    "$$ D = \\left( \\begin{array}{ccc}\n",
    "a & 2 & 0 & 0 & 0 \\\\\n",
    "-1 & 0 & 1 & 0 & 0 \\\\\n",
    "0 & -1 & 0 & 1 & 0 \\\\\n",
    "0 & 0 & -1 & 0 & 1 \\\\\n",
    "0 & 0 & 0 & -2 & y \\end{array} \\right) $$"
   ]
  },
  {
   "cell_type": "markdown",
   "metadata": {
    "collapsed": false
   },
   "source": [
    "The last points to define are now $a$ and $y$.  In order to get the function to work properly, $a$ must equal $-2$ and $y$ must equal $2$ so that when divided by $2\\delta x$ the first line is $2(f_2-f_1)/2\\delta x = (f_2-f_1)/\\delta x$.  Therefore, the symmetric difference matrix is:\n",
    "$$ D = \\left( \\begin{array}{ccc}\n",
    "-2 & 2 & 0 & 0 & 0 \\\\\n",
    "-1 & 0 & 1 & 0 & 0 \\\\\n",
    "0 & -1 & 0 & 1 & 0 \\\\\n",
    "0 & 0 & -1 & 0 & 1 \\\\\n",
    "0 & 0 & 0 & -2 & 2 \\end{array} \\right)/2\\delta x $$"
   ]
  },
  {
   "cell_type": "markdown",
   "metadata": {
    "collapsed": false
   },
   "source": [
    "Now we will plot the test functions: $f(x) = x^2$, $s(x) = \\sin(x)$, and $g(x) = \\exp(-x^2/2)/\\sqrt{2\\pi}$. "
   ]
  },
  {
   "cell_type": "code",
   "execution_count": 1,
   "metadata": {
    "collapsed": false
   },
   "outputs": [
   ],
   "source": [
    "import array_calculus as ac"
   ]
  },
  {
   "cell_type": "code",
   "execution_count": 2,
   "metadata": {
    "collapsed": false
   },
   "outputs": [
    {
     "name": "stdout",
     "output_type": "stream",
     "text": [
      "[[ 2.  0.  0. ...,  0.  0.  0.]\n",
      " [ 0.  1.  0. ...,  0.  0.  0.]\n",
      " [ 0.  0.  1. ...,  0.  0.  0.]\n",
      " ..., \n",
      " [ 0.  0.  0. ...,  1.  0.  0.]\n",
      " [ 0.  0.  0. ...,  0.  1.  0.]\n",
      " [ 0.  0.  0. ...,  0.  0.  2.]]\n"
     ]
    },
    {
     "data": {
      "image/png": "[encoded data removed]"
     },
     "metadata": {
      "image/png": {
       "height": 2345,
       "width": 721
      }
     }
    }
   ],
   "source": [
    "x,f = ac.gen_xsqr_array(-3,3,500)\n",
    "ac.plot(ac.derivative(-3,3,500),x,f,title=r'$x^2$ and its Derivative')"
   ]
  },
  {
   "cell_type": "code",
   "execution_count": 0,
   "metadata": {
    "collapsed": false
   },
   "outputs": [
   ],
   "source": [
   ]
  }
 ],
 "metadata": {
  "kernelspec": {
   "display_name": "Python 3 (Anaconda)",
   "language": "python",
   "name": "anaconda3"
  },
  "language_info": {
   "codemirror_mode": {
    "name": "ipython",
    "version": 3
   },
   "file_extension": ".py",
   "mimetype": "text/x-python",
   "name": "python",
   "nbconvert_exporter": "python",
   "pygments_lexer": "ipython3",
   "version": "3.5.4"
  }
 },
 "nbformat": 4,
 "nbformat_minor": 0
}